{
 "cells": [
  {
   "cell_type": "code",
   "execution_count": null,
   "metadata": {},
   "outputs": [],
   "source": [
    "import time\n",
    "from typing import Iterable, Tuple, TypeVar\n",
    "\n",
    "TNumber = TypeVar(\"TNumber\", int, float)\n",
    "\n",
    "\n",
    "def count_with_sleep(seconds: int) -> int:\n",
    "    \"\"\"Cuenta hasta ``seconds`` con una pausa de un segundo entre cada número.\"\"\"\n",
    "    for current in range(1, seconds + 1):\n",
    "        print(f\"Segundo {current}\")\n",
    "        time.sleep(1)\n",
    "    return seconds\n",
    "\n",
    "\n",
    "def sum_integers(values: Iterable[int]) -> int:\n",
    "    \"\"\"Suma una colección de enteros.\"\"\"\n",
    "    return sum(values)\n",
    "\n",
    "\n",
    "def sum_numbers(values: Iterable[TNumber]) -> TNumber:\n",
    "    \"\"\"Suma una colección de enteros y/o flotantes.\"\"\"\n",
    "    return sum(values)\n",
    "\n",
    "\n",
    "def time_function(func, *args, **kwargs) -> Tuple[TNumber, float]:\n",
    "    \"\"\"Ejecuta ``func`` y retorna una tupla con el resultado y la duración.\"\"\"\n",
    "    start = time.perf_counter()\n",
    "    result = func(*args, **kwargs)\n",
    "    duration = time.perf_counter() - start\n",
    "    return result, duration\n",
    "\n",
    "\n",
    "if __name__ == \"__main__\":\n",
    "    total_seconds = 10\n",
    "    integers = list(range(1, 101))\n",
    "    mixed_numbers = [value if value % 2 == 0 else value + 0.5 for value in range(1, 101)]\n",
    "\n",
    "    print(\"Conteo con pausa de 1 segundo:\")\n",
    "    _, count_time = time_function(count_with_sleep, total_seconds)\n",
    "    print(f\"Tiempo total de conteo: {count_time:.3f} segundos\\n\")\n",
    "\n",
    "    total_ints, ints_time = time_function(sum_integers, integers)\n",
    "    print(\"Suma de 100 enteros:\")\n",
    "    print(f\"Resultado: {total_ints}\")\n",
    "    print(f\"Tiempo empleado: {ints_time:.6f} segundos\\n\")\n",
    "\n",
    "    total_mixed, mixed_time = time_function(sum_numbers, mixed_numbers)\n",
    "    print(\"Suma de 100 números (enteros y flotantes):\")\n",
    "    print(f\"Resultado: {total_mixed}\")\n",
    "    print(f\"Tiempo empleado: {mixed_time:.6f} segundos\")"
   ]
  }
 ],
 "metadata": {
  "language_info": {
   "name": "python"
  }
 },
 "nbformat": 4,
 "nbformat_minor": 2
}
